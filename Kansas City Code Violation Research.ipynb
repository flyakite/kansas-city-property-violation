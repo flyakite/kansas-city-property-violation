{
 "cells": [
  {
   "cell_type": "markdown",
   "metadata": {},
   "source": [
    "# Code Violation in Kansas City\n",
    "\n",
    "The residential code violation has become one of the most frequent reported concerns of the citizens among all reports in 311 City Action Center in Kansas City. This research is helping people understand more about the situation of code violation, and the cause and effects. I picked some questions from [the discussion](https://github.com/codeforkansascity/Property-Violations-Settlement/issues/27) that I feel curious about to address first.\n",
    "\n",
    "Shih-Wen Su 2016/05/23\n",
    "\n",
    "Related Links:\n",
    "\n",
    "[Common Code Violations](http://kcmo.gov/neighborhoods/neighborhood-preservation/common-code-violations/)\n",
    "\n",
    "[OpenData KC for Property Violation](https://data.kcmo.org/Housing/Property-Violations/nhtf-e75a)\n",
    "\n",
    "[Code for Kansas City Property-Violation-Settlement](https://github.com/codeforkansascity/Property-Violations-Settlement)"
   ]
  },
  {
   "cell_type": "markdown",
   "metadata": {},
   "source": [
    "## Where's the data?\n",
    "\n",
    "Let's pull the data from [OpenData KC for Property Violation](https://data.kcmo.org/Housing/Property-Violations/nhtf-e75a)"
   ]
  },
  {
   "cell_type": "code",
   "execution_count": 1,
   "metadata": {
    "collapsed": true
   },
   "outputs": [],
   "source": [
    "# Code Preparation\n",
    "import time\n",
    "import pandas as pd\n",
    "import numpy as np\n",
    "import matplotlib.pyplot as plt\n",
    "from datetime import datetime\n",
    "from IPython import display\n",
    "%matplotlib inline"
   ]
  },
  {
   "cell_type": "code",
   "execution_count": 2,
   "metadata": {
    "collapsed": false
   },
   "outputs": [
    {
     "name": "stdout",
     "output_type": "stream",
     "text": [
      "data size (427649, 21)\n"
     ]
    }
   ],
   "source": [
    "# Data Preparation\n",
    "# There's a warning message for 'Inspection Area', as it's not all in integer\n",
    "# We parse ['Case Opened Date', 'Case Closed Date', 'Violation Entry Date'] to be datetime object\n",
    "def parse_date(x):\n",
    "    if x in ['nan', '']:\n",
    "        return None\n",
    "    return datetime.strptime(str(x), '%m/%d/%Y')\n",
    "df = pd.read_csv('Property_Violations.csv',\n",
    "                    parse_dates=[3,4,10], date_parser=parse_date)\n",
    "df.drop_duplicates(subset=['Case ID'])\n",
    "print 'data size', df.shape"
   ]
  },
  {
   "cell_type": "code",
   "execution_count": 3,
   "metadata": {
    "collapsed": false
   },
   "outputs": [],
   "source": [
    "# Use only the data from 2009 to 2015\n",
    "df = df[df['Case Opened Date'].dt.year.isin(range(2009,2016))]"
   ]
  },
  {
   "cell_type": "code",
   "execution_count": 4,
   "metadata": {
    "collapsed": false
   },
   "outputs": [
    {
     "name": "stdout",
     "output_type": "stream",
     "text": [
      "(415963, 21)\n",
      "Property Violation ID               int64\n",
      "Case ID                             int64\n",
      "Status                             object\n",
      "Case Opened Date           datetime64[ns]\n",
      "Case Closed Date           datetime64[ns]\n",
      "Days Open                         float64\n",
      "Violation Code                     object\n",
      "Violation Description              object\n",
      "Ordinance Number                   object\n",
      "Ordinance Chapter                   int64\n",
      "Violation Entry Date       datetime64[ns]\n",
      "Address                            object\n",
      "County                             object\n",
      "State                              object\n",
      "Zip Code                          float64\n",
      "KIVA PIN                            int64\n",
      "Council District                  float64\n",
      "Police Patrol Area                 object\n",
      "Inspection Area                    object\n",
      "Neighborhood                       object\n",
      "Code Violation Location            object\n",
      "dtype: object\n"
     ]
    }
   ],
   "source": [
    "# Let's look at the data size and columns\n",
    "print df.shape\n",
    "print df.dtypes"
   ]
  },
  {
   "cell_type": "markdown",
   "metadata": {},
   "source": [
    "## What day of week are violations most likely to be recorded?\n"
   ]
  },
  {
   "cell_type": "code",
   "execution_count": 5,
   "metadata": {
    "collapsed": false
   },
   "outputs": [
    {
     "data": {
      "image/png": "[encoded data removed]",
      "text/plain": [
       "<matplotlib.figure.Figure at 0x105455050>"
      ]
     },
     "metadata": {},
     "output_type": "display_data"
    }
   ],
   "source": [
    "weekday_labels = ['Mon','Tue','Wed','Thu','Fri','Sat','Sun']\n",
    "def plot_by_weekday(col):\n",
    "    g = df[col].groupby(df[col].dt.weekday).count().plot(kind=\"bar\", alpha=0.5, ylim=(0,100000))\n",
    "    g.set_xticklabels(weekday_labels, rotation=0)\n",
    "    \n",
    "plot_by_weekday('Case Opened Date')"
   ]
  },
  {
   "cell_type": "markdown",
   "metadata": {},
   "source": [
    "## What day of week are violations most likely to be closed?"
   ]
  },
  {
   "cell_type": "code",
   "execution_count": 6,
   "metadata": {
    "collapsed": false
   },
   "outputs": [
    {
     "data": {
      "image/png": "[encoded data removed]",
      "text/plain": [
       "<matplotlib.figure.Figure at 0x10d9104d0>"
      ]
     },
     "metadata": {},
     "output_type": "display_data"
    }
   ],
   "source": [
    "plot_by_weekday('Case Closed Date')"
   ]
  },
  {
   "cell_type": "markdown",
   "metadata": {},
   "source": [
    "From the graph it seems nobody likes to report on the weekend, or, more likely, because no one would be on the other side of the phone to answer. We need to know the source of the records (from phone call or internet) to find out."
   ]
  },
  {
   "cell_type": "markdown",
   "metadata": {},
   "source": [
    "## What month are violations most likely to be recorded?"
   ]
  },
  {
   "cell_type": "code",
   "execution_count": 7,
   "metadata": {
    "collapsed": false
   },
   "outputs": [
    {
     "data": {
      "image/png": "[encoded data removed]",
      "text/plain": [
       "<matplotlib.figure.Figure at 0x10a240a50>"
      ]
     },
     "metadata": {},
     "output_type": "display_data"
    }
   ],
   "source": [
    "def plot_by_month(col):\n",
    "    g = df[col].groupby(df[col].dt.month).count().plot(kind=\"bar\", alpha=0.5, stacked=True, ylim=(0,60000))\n",
    "    g.set_xticklabels(range(1,13), rotation=0)\n",
    "plot_by_month('Case Opened Date')"
   ]
  },
  {
   "cell_type": "markdown",
   "metadata": {},
   "source": [
    "## What month are violations most likely to be closed?"
   ]
  },
  {
   "cell_type": "code",
   "execution_count": 8,
   "metadata": {
    "collapsed": false
   },
   "outputs": [
    {
     "data": {
      "image/png": "[encoded data removed]",
      "text/plain": [
       "<matplotlib.figure.Figure at 0x107e4c610>"
      ]
     },
     "metadata": {},
     "output_type": "display_data"
    }
   ],
   "source": [
    "plot_by_month('Case Closed Date')"
   ]
  },
  {
   "cell_type": "markdown",
   "metadata": {},
   "source": [
    "This is very interesting as there are more concerns reported during the summer season (May to August), but less cases are closed during this season.\n",
    "\n",
    "Why is that? \n",
    "\n",
    "Are the concerns hard to deal with? \n",
    "\n",
    "Let's take a closer look at the code violations."
   ]
  },
  {
   "cell_type": "markdown",
   "metadata": {},
   "source": [
    "## What are the top violation types?"
   ]
  },
  {
   "cell_type": "code",
   "execution_count": 9,
   "metadata": {
    "collapsed": false
   },
   "outputs": [
    {
     "name": "stdout",
     "output_type": "stream",
     "text": [
      "Violation Code\n",
      "NSWLTRASH     63933\n",
      "NSWLWEED      50686\n",
      "NSWLOPSTOR    44201\n",
      "NSWLLIMBS     23770\n",
      "NSEXTWAL06    20325\n",
      "NSVACANT      19000\n",
      "NSRENTAL01    14266\n",
      "NSWLVEH02     12460\n",
      "NSEXTWAL04    11821\n",
      "NSWLWEED1     11276\n",
      "dtype: int64\n"
     ]
    }
   ],
   "source": [
    "top_violations = df.groupby('Violation Code').size().nlargest(10)\n",
    "print top_violations"
   ]
  },
  {
   "cell_type": "markdown",
   "metadata": {},
   "source": [
    "### Description of these top Violation Codes."
   ]
  },
  {
   "cell_type": "code",
   "execution_count": 10,
   "metadata": {
    "collapsed": false
   },
   "outputs": [
    {
     "name": "stdout",
     "output_type": "stream",
     "text": [
      "   NSWLTRASH: LITTER, TRASH, REFUSE, AND RUBBISH\n",
      "    NSWLWEED: RANK WEEDS OR UNATTENDED GROWTH\n",
      "  NSWLOPSTOR: UNAPPROVED STORAGE\n",
      "   NSWLLIMBS: LIMBS AND BRUSH\n",
      "  NSEXTWAL06: PEELING, CRACKED, BLISTERED PAINT\n",
      "    NSVACANT: FAILURE TO REGISTER VACANT PROPERTY\n",
      "  NSRENTAL01: FAILURE TO REGISTER RENTAL DWELLING\n",
      "   NSWLVEH02: UNLICENSED VEHICLE\n",
      "  NSEXTWAL04: EXTERIOR SURFACE MATERIAL NOT PROTECTED\n",
      "   NSWLWEED1: RANK WEEDS\n"
     ]
    }
   ],
   "source": [
    "dfdesc = df[['Violation Code', 'Violation Description']]\n",
    "dfdesc = dfdesc[dfdesc['Violation Code'].isin(top_violations.index)]\n",
    "vdesc = dict(zip(dfdesc['Violation Code'].unique(), dfdesc['Violation Description'].unique()))\n",
    "for i in top_violations.index:\n",
    "    print \"%12s: %s\" % (i, vdesc[i])"
   ]
  },
  {
   "cell_type": "markdown",
   "metadata": {},
   "source": [
    "## Which seasons correlate to higher frequencies of each type of violation?"
   ]
  },
  {
   "cell_type": "code",
   "execution_count": 11,
   "metadata": {
    "collapsed": false
   },
   "outputs": [
    {
     "data": {
      "text/plain": [
       "[]"
      ]
     },
     "execution_count": 11,
     "metadata": {},
     "output_type": "execute_result"
    },
    {
     "data": {
      "image/png": "[encoded data removed]",
      "text/plain": [
       "<matplotlib.figure.Figure at 0x10a9046d0>"
      ]
     },
     "metadata": {},
     "output_type": "display_data"
    }
   ],
   "source": [
    "df2 = df[['Violation Code', 'Case Opened Date']]\n",
    "df2 = df2[df2['Violation Code'].isin(top_violations.index)]\n",
    "df2 = df2.groupby([df['Case Opened Date'].dt.month, 'Violation Code'])['Violation Code'].count().unstack().fillna(0)\n",
    "df2 = df2[top_violations.index] #Use top violation index for Violation Code order\n",
    "g = df2.plot(kind='bar',sort_columns=True, stacked=True, figsize=(20,10), fontsize=15, colormap='Set1', ylim=(0,50000))\n",
    "g.set_xticklabels(range(1,13), rotation=0)\n",
    "g.plot()\n"
   ]
  },
  {
   "cell_type": "markdown",
   "metadata": {},
   "source": [
    "### Here we found NSWLWEED and NSWLWEED1 are very similar. \n",
    "### So what if we group violation sub-catagories together?"
   ]
  },
  {
   "cell_type": "code",
   "execution_count": 12,
   "metadata": {
    "collapsed": false
   },
   "outputs": [
    {
     "name": "stdout",
     "output_type": "stream",
     "text": [
      "Violation Code Purged\n",
      "NSWLWEED      65250\n",
      "NSWLTRASH     63933\n",
      "NSEXTWAL      51834\n",
      "NSWLOPSTOR    44201\n",
      "NSWLVEH       26697\n",
      "NSWLLIMBS     23770\n",
      "NSVACANT      19000\n",
      "NSRENTAL      14266\n",
      "NSGUTTER      13783\n",
      "NSEAVES       12486\n",
      "dtype: int64\n"
     ]
    }
   ],
   "source": [
    "df['Violation Code Purged'] = df['Violation Code'].apply(lambda x: x.rstrip('1234567890.'))\n",
    "top_violations_purged = df.groupby('Violation Code Purged').size().nlargest(10)\n",
    "print top_violations_purged"
   ]
  },
  {
   "cell_type": "markdown",
   "metadata": {},
   "source": [
    "The weed family now becomes the top headache.\n",
    "\n",
    "Let's take a look at the correlation again."
   ]
  },
  {
   "cell_type": "code",
   "execution_count": 13,
   "metadata": {
    "collapsed": false
   },
   "outputs": [
    {
     "data": {
      "text/plain": [
       "[]"
      ]
     },
     "execution_count": 13,
     "metadata": {},
     "output_type": "execute_result"
    },
    {
     "data": {
      "image/png": "[encoded data removed]",
      "text/plain": [
       "<matplotlib.figure.Figure at 0x10a83ffd0>"
      ]
     },
     "metadata": {},
     "output_type": "display_data"
    }
   ],
   "source": [
    "df2 = df[['Violation Code Purged', 'Case Opened Date']]\n",
    "df2 = df2[df2['Violation Code Purged'].isin(top_violations_purged.index)]\n",
    "df2 = df2.groupby([df['Case Opened Date'].dt.month, 'Violation Code Purged'])['Violation Code Purged'].count().unstack().fillna(0)\n",
    "df2 = df2[top_violations_purged.index] #Use top violation index for Violation Code order\n",
    "g = df2.plot(kind='bar',sort_columns=True, stacked=True, figsize=(20,10), fontsize=15, colormap='Set1', ylim=(0,50000))\n",
    "g.set_xticklabels(range(1,13), rotation=0)\n",
    "g.plot()"
   ]
  },
  {
   "cell_type": "markdown",
   "metadata": {},
   "source": [
    "## How do the different types of violations affect how long a case takes to close?"
   ]
  },
  {
   "cell_type": "code",
   "execution_count": 25,
   "metadata": {
    "collapsed": false
   },
   "outputs": [
    {
     "data": {
      "text/html": [
       "<div>\n",
       "<table border=\"1\" class=\"dataframe\">\n",
       "  <thead>\n",
       "    <tr style=\"text-align: right;\">\n",
       "      <th></th>\n",
       "      <th>Days Open</th>\n",
       "    </tr>\n",
       "    <tr>\n",
       "      <th>Violation Code Purged</th>\n",
       "      <th></th>\n",
       "    </tr>\n",
       "  </thead>\n",
       "  <tbody>\n",
       "    <tr>\n",
       "      <th>NSDBDEBRIS</th>\n",
       "      <td>994.000000</td>\n",
       "    </tr>\n",
       "    <tr>\n",
       "      <th>NSZFIRE</th>\n",
       "      <td>654.333333</td>\n",
       "    </tr>\n",
       "    <tr>\n",
       "      <th>NSCHIMNY</th>\n",
       "      <td>618.168357</td>\n",
       "    </tr>\n",
       "    <tr>\n",
       "      <th>NSEAVES</th>\n",
       "      <td>581.562640</td>\n",
       "    </tr>\n",
       "    <tr>\n",
       "      <th>NSXWLBRK</th>\n",
       "      <td>573.357143</td>\n",
       "    </tr>\n",
       "    <tr>\n",
       "      <th>NSXWLBKS</th>\n",
       "      <td>566.811024</td>\n",
       "    </tr>\n",
       "    <tr>\n",
       "      <th>NSFIRE</th>\n",
       "      <td>558.254237</td>\n",
       "    </tr>\n",
       "    <tr>\n",
       "      <th>NSXWLSTC</th>\n",
       "      <td>551.542857</td>\n",
       "    </tr>\n",
       "    <tr>\n",
       "      <th>NSRAIL</th>\n",
       "      <td>550.227677</td>\n",
       "    </tr>\n",
       "    <tr>\n",
       "      <th>NSROOF</th>\n",
       "      <td>541.986764</td>\n",
       "    </tr>\n",
       "    <tr>\n",
       "      <th>NSVACANT</th>\n",
       "      <td>539.848097</td>\n",
       "    </tr>\n",
       "    <tr>\n",
       "      <th>NSPORCH</th>\n",
       "      <td>539.319597</td>\n",
       "    </tr>\n",
       "    <tr>\n",
       "      <th>NSFOUND</th>\n",
       "      <td>530.043847</td>\n",
       "    </tr>\n",
       "    <tr>\n",
       "      <th>NSGUTTER</th>\n",
       "      <td>527.750653</td>\n",
       "    </tr>\n",
       "    <tr>\n",
       "      <th>NSAWNING</th>\n",
       "      <td>525.039024</td>\n",
       "    </tr>\n",
       "    <tr>\n",
       "      <th>NSWINDOW</th>\n",
       "      <td>517.839467</td>\n",
       "    </tr>\n",
       "    <tr>\n",
       "      <th>NSBOAT</th>\n",
       "      <td>516.260870</td>\n",
       "    </tr>\n",
       "    <tr>\n",
       "      <th>NSSTAIRS</th>\n",
       "      <td>515.363825</td>\n",
       "    </tr>\n",
       "    <tr>\n",
       "      <th>NSZRTAIN</th>\n",
       "      <td>512.944444</td>\n",
       "    </tr>\n",
       "    <tr>\n",
       "      <th>NSEXTWAL</th>\n",
       "      <td>511.782428</td>\n",
       "    </tr>\n",
       "  </tbody>\n",
       "</table>\n",
       "</div>"
      ],
      "text/plain": [
       "                        Days Open\n",
       "Violation Code Purged            \n",
       "NSDBDEBRIS             994.000000\n",
       "NSZFIRE                654.333333\n",
       "NSCHIMNY               618.168357\n",
       "NSEAVES                581.562640\n",
       "NSXWLBRK               573.357143\n",
       "NSXWLBKS               566.811024\n",
       "NSFIRE                 558.254237\n",
       "NSXWLSTC               551.542857\n",
       "NSRAIL                 550.227677\n",
       "NSROOF                 541.986764\n",
       "NSVACANT               539.848097\n",
       "NSPORCH                539.319597\n",
       "NSFOUND                530.043847\n",
       "NSGUTTER               527.750653\n",
       "NSAWNING               525.039024\n",
       "NSWINDOW               517.839467\n",
       "NSBOAT                 516.260870\n",
       "NSSTAIRS               515.363825\n",
       "NSZRTAIN               512.944444\n",
       "NSEXTWAL               511.782428"
      ]
     },
     "execution_count": 25,
     "metadata": {},
     "output_type": "execute_result"
    }
   ],
   "source": [
    "df5 = df[['Violation Code Purged', 'Days Open']]\n",
    "df5.groupby('Violation Code Purged').mean().sort_values(by='Days Open', ascending=False)[:20]"
   ]
  },
  {
   "cell_type": "markdown",
   "metadata": {},
   "source": [
    "It takes more than 500 days in average for these type of violation to be closed!\n",
    "\n",
    "## What about open days for top violations?"
   ]
  },
  {
   "cell_type": "code",
   "execution_count": 15,
   "metadata": {
    "collapsed": false
   },
   "outputs": [
    {
     "data": {
      "image/png": "[encoded data removed]",
      "text/plain": [
       "<matplotlib.figure.Figure at 0x10823f550>"
      ]
     },
     "metadata": {},
     "output_type": "display_data"
    },
    {
     "data": {
      "text/html": [
       "<div>\n",
       "<table border=\"1\" class=\"dataframe\">\n",
       "  <thead>\n",
       "    <tr style=\"text-align: right;\">\n",
       "      <th></th>\n",
       "      <th>Days Open</th>\n",
       "    </tr>\n",
       "    <tr>\n",
       "      <th>Violation Code Purged</th>\n",
       "      <th></th>\n",
       "    </tr>\n",
       "  </thead>\n",
       "  <tbody>\n",
       "    <tr>\n",
       "      <th>NSEAVES</th>\n",
       "      <td>581.562640</td>\n",
       "    </tr>\n",
       "    <tr>\n",
       "      <th>NSVACANT</th>\n",
       "      <td>539.848097</td>\n",
       "    </tr>\n",
       "    <tr>\n",
       "      <th>NSGUTTER</th>\n",
       "      <td>527.750653</td>\n",
       "    </tr>\n",
       "    <tr>\n",
       "      <th>NSEXTWAL</th>\n",
       "      <td>511.782428</td>\n",
       "    </tr>\n",
       "    <tr>\n",
       "      <th>NSWLLIMBS</th>\n",
       "      <td>369.721222</td>\n",
       "    </tr>\n",
       "    <tr>\n",
       "      <th>NSWLOPSTOR</th>\n",
       "      <td>355.793456</td>\n",
       "    </tr>\n",
       "    <tr>\n",
       "      <th>NSRENTAL</th>\n",
       "      <td>343.557145</td>\n",
       "    </tr>\n",
       "    <tr>\n",
       "      <th>NSWLTRASH</th>\n",
       "      <td>338.294880</td>\n",
       "    </tr>\n",
       "    <tr>\n",
       "      <th>NSWLWEED</th>\n",
       "      <td>336.051235</td>\n",
       "    </tr>\n",
       "    <tr>\n",
       "      <th>NSWLVEH</th>\n",
       "      <td>301.663057</td>\n",
       "    </tr>\n",
       "  </tbody>\n",
       "</table>\n",
       "</div>"
      ],
      "text/plain": [
       "                        Days Open\n",
       "Violation Code Purged            \n",
       "NSEAVES                581.562640\n",
       "NSVACANT               539.848097\n",
       "NSGUTTER               527.750653\n",
       "NSEXTWAL               511.782428\n",
       "NSWLLIMBS              369.721222\n",
       "NSWLOPSTOR             355.793456\n",
       "NSRENTAL               343.557145\n",
       "NSWLTRASH              338.294880\n",
       "NSWLWEED               336.051235\n",
       "NSWLVEH                301.663057"
      ]
     },
     "execution_count": 15,
     "metadata": {},
     "output_type": "execute_result"
    }
   ],
   "source": [
    "#How do the different types of violations among most reported violation types affect how long a case takes to close?\n",
    "df5 = df[['Violation Code Purged', 'Days Open']]\n",
    "df6 = df5[df5['Violation Code Purged'].isin(top_violations_purged.index)]\n",
    "df6.groupby('Violation Code Purged').boxplot(figsize=(20,20))\n",
    "plt.show()\n",
    "df6.groupby('Violation Code Purged').mean().sort_values(by='Days Open', ascending=False)\n"
   ]
  },
  {
   "cell_type": "markdown",
   "metadata": {},
   "source": [
    "It's hard to believe weed and trash violation takes about 336 days to be taken care of."
   ]
  },
  {
   "cell_type": "markdown",
   "metadata": {},
   "source": [
    "## What types of violations occur together?\n",
    "\n",
    "This is another interesting question, but can be defined more specifically in many ways.\n",
    "\n",
    "Here I want to know if several types of violation occur at the same location (same house)."
   ]
  },
  {
   "cell_type": "code",
   "execution_count": 16,
   "metadata": {
    "collapsed": false
   },
   "outputs": [
    {
     "data": {
      "text/html": [
       "<div>\n",
       "<table border=\"1\" class=\"dataframe\">\n",
       "  <thead>\n",
       "    <tr style=\"text-align: right;\">\n",
       "      <th></th>\n",
       "      <th>Violation Code Combos</th>\n",
       "      <th>Co-occurance</th>\n",
       "    </tr>\n",
       "  </thead>\n",
       "  <tbody>\n",
       "    <tr>\n",
       "      <th>0</th>\n",
       "      <td>NSWLOPSTOR - NSWLTRASH</td>\n",
       "      <td>124637</td>\n",
       "    </tr>\n",
       "    <tr>\n",
       "      <th>1</th>\n",
       "      <td>NSWLTRASH - NSWLWEED</td>\n",
       "      <td>111015</td>\n",
       "    </tr>\n",
       "    <tr>\n",
       "      <th>2</th>\n",
       "      <td>NSWLTRASH - NSWLTRASH</td>\n",
       "      <td>74785</td>\n",
       "    </tr>\n",
       "    <tr>\n",
       "      <th>3</th>\n",
       "      <td>NSWLOPSTOR - NSWLWEED</td>\n",
       "      <td>62981</td>\n",
       "    </tr>\n",
       "    <tr>\n",
       "      <th>4</th>\n",
       "      <td>NSWLLIMBS - NSWLTRASH</td>\n",
       "      <td>56751</td>\n",
       "    </tr>\n",
       "    <tr>\n",
       "      <th>5</th>\n",
       "      <td>NSWLWEED - NSWLWEED</td>\n",
       "      <td>50636</td>\n",
       "    </tr>\n",
       "    <tr>\n",
       "      <th>6</th>\n",
       "      <td>NSVACANT - NSWLTRASH</td>\n",
       "      <td>50448</td>\n",
       "    </tr>\n",
       "    <tr>\n",
       "      <th>7</th>\n",
       "      <td>NSWLLIMBS - NSWLWEED</td>\n",
       "      <td>47897</td>\n",
       "    </tr>\n",
       "    <tr>\n",
       "      <th>8</th>\n",
       "      <td>NSVACANT - NSWLWEED</td>\n",
       "      <td>47522</td>\n",
       "    </tr>\n",
       "    <tr>\n",
       "      <th>9</th>\n",
       "      <td>NSEXTWAL06 - NSWLTRASH</td>\n",
       "      <td>44626</td>\n",
       "    </tr>\n",
       "    <tr>\n",
       "      <th>10</th>\n",
       "      <td>NSWLOPSTOR - NSWLOPSTOR</td>\n",
       "      <td>44586</td>\n",
       "    </tr>\n",
       "    <tr>\n",
       "      <th>11</th>\n",
       "      <td>NSWLLIMBS - NSWLOPSTOR</td>\n",
       "      <td>35081</td>\n",
       "    </tr>\n",
       "    <tr>\n",
       "      <th>12</th>\n",
       "      <td>NSEXTWAL06 - NSWLWEED</td>\n",
       "      <td>34752</td>\n",
       "    </tr>\n",
       "    <tr>\n",
       "      <th>13</th>\n",
       "      <td>NSRENTAL01 - NSWLTRASH</td>\n",
       "      <td>34172</td>\n",
       "    </tr>\n",
       "    <tr>\n",
       "      <th>14</th>\n",
       "      <td>NSEXTWAL06 - NSWLOPSTOR</td>\n",
       "      <td>33263</td>\n",
       "    </tr>\n",
       "    <tr>\n",
       "      <th>15</th>\n",
       "      <td>NSEXTWAL04 - NSWLTRASH</td>\n",
       "      <td>32276</td>\n",
       "    </tr>\n",
       "    <tr>\n",
       "      <th>16</th>\n",
       "      <td>NSVACANT - NSWLOPSTOR</td>\n",
       "      <td>29363</td>\n",
       "    </tr>\n",
       "    <tr>\n",
       "      <th>17</th>\n",
       "      <td>NSRENTAL01 - NSWLOPSTOR</td>\n",
       "      <td>26460</td>\n",
       "    </tr>\n",
       "    <tr>\n",
       "      <th>18</th>\n",
       "      <td>NSWLTRASH - NSWLVEH02</td>\n",
       "      <td>25630</td>\n",
       "    </tr>\n",
       "    <tr>\n",
       "      <th>19</th>\n",
       "      <td>NSEXTWAL04 - NSWLWEED</td>\n",
       "      <td>24445</td>\n",
       "    </tr>\n",
       "  </tbody>\n",
       "</table>\n",
       "</div>"
      ],
      "text/plain": [
       "      Violation Code Combos  Co-occurance\n",
       "0    NSWLOPSTOR - NSWLTRASH        124637\n",
       "1      NSWLTRASH - NSWLWEED        111015\n",
       "2     NSWLTRASH - NSWLTRASH         74785\n",
       "3     NSWLOPSTOR - NSWLWEED         62981\n",
       "4     NSWLLIMBS - NSWLTRASH         56751\n",
       "5       NSWLWEED - NSWLWEED         50636\n",
       "6      NSVACANT - NSWLTRASH         50448\n",
       "7      NSWLLIMBS - NSWLWEED         47897\n",
       "8       NSVACANT - NSWLWEED         47522\n",
       "9    NSEXTWAL06 - NSWLTRASH         44626\n",
       "10  NSWLOPSTOR - NSWLOPSTOR         44586\n",
       "11   NSWLLIMBS - NSWLOPSTOR         35081\n",
       "12    NSEXTWAL06 - NSWLWEED         34752\n",
       "13   NSRENTAL01 - NSWLTRASH         34172\n",
       "14  NSEXTWAL06 - NSWLOPSTOR         33263\n",
       "15   NSEXTWAL04 - NSWLTRASH         32276\n",
       "16    NSVACANT - NSWLOPSTOR         29363\n",
       "17  NSRENTAL01 - NSWLOPSTOR         26460\n",
       "18    NSWLTRASH - NSWLVEH02         25630\n",
       "19    NSEXTWAL04 - NSWLWEED         24445"
      ]
     },
     "execution_count": 16,
     "metadata": {},
     "output_type": "execute_result"
    }
   ],
   "source": [
    "#Violation happens at the same location\n",
    "from itertools import combinations\n",
    "dfto = df[['Violation Code', 'Code Violation Location']]\n",
    "dftolsize = dfto.groupby('Code Violation Location').size()\n",
    "mulcv_locations = dftolsize[dftolsize > 1].index\n",
    "mdfto = dfto[dfto['Code Violation Location'].isin(mulcv_locations)] #contains locations with multiple cv reported\n",
    "grouped = mdfto.groupby('Code Violation Location')\n",
    "cooccur_dict = {}\n",
    "for name, group in grouped:\n",
    "    codes = group['Violation Code'].copy()\n",
    "    for a, b in combinations(codes, 2):\n",
    "        sorted_comb = sorted((a,b))\n",
    "        k = \" - \".join(sorted_comb)\n",
    "        if cooccur_dict.has_key(k):\n",
    "            cooccur_dict[k] += 1\n",
    "        else:\n",
    "            cooccur_dict[k] = 1\n",
    "cooc = pd.DataFrame(cooccur_dict.items(), columns=[\"Violation Code Combos\", \"Co-occurance\"])\n",
    "cooc.nlargest(20, \"Co-occurance\").reset_index(drop=True)"
   ]
  },
  {
   "cell_type": "markdown",
   "metadata": {},
   "source": [
    "It's not a big surprise these types of code violation occur together the most.\n",
    "\n",
    "NSWLTRASH: LITTER, TRASH, REFUSE, AND RUBBISH\n",
    "\n",
    "  NSWLWEED: RANK WEEDS OR UNATTENDED GROWTH\n",
    "  \n",
    "NSWLOPSTOR: UNAPPROVED STORAGE\n",
    "\n",
    "But let's take a look at 3 violation combos."
   ]
  },
  {
   "cell_type": "code",
   "execution_count": 17,
   "metadata": {
    "collapsed": false
   },
   "outputs": [
    {
     "data": {
      "text/html": [
       "<div>\n",
       "<table border=\"1\" class=\"dataframe\">\n",
       "  <thead>\n",
       "    <tr style=\"text-align: right;\">\n",
       "      <th></th>\n",
       "      <th>Violation Code Combos</th>\n",
       "      <th>Co-occurance</th>\n",
       "    </tr>\n",
       "  </thead>\n",
       "  <tbody>\n",
       "    <tr>\n",
       "      <th>0</th>\n",
       "      <td>NSWLOPSTOR - NSWLTRASH - NSWLTRASH</td>\n",
       "      <td>315634</td>\n",
       "    </tr>\n",
       "    <tr>\n",
       "      <th>1</th>\n",
       "      <td>NSWLOPSTOR - NSWLOPSTOR - NSWLTRASH</td>\n",
       "      <td>283078</td>\n",
       "    </tr>\n",
       "    <tr>\n",
       "      <th>2</th>\n",
       "      <td>NSWLOPSTOR - NSWLTRASH - NSWLWEED</td>\n",
       "      <td>271425</td>\n",
       "    </tr>\n",
       "    <tr>\n",
       "      <th>3</th>\n",
       "      <td>NSWLTRASH - NSWLTRASH - NSWLWEED</td>\n",
       "      <td>204788</td>\n",
       "    </tr>\n",
       "    <tr>\n",
       "      <th>4</th>\n",
       "      <td>NSWLTRASH - NSWLWEED - NSWLWEED</td>\n",
       "      <td>168344</td>\n",
       "    </tr>\n",
       "    <tr>\n",
       "      <th>5</th>\n",
       "      <td>NSVACANT - NSWLTRASH - NSWLWEED</td>\n",
       "      <td>167930</td>\n",
       "    </tr>\n",
       "    <tr>\n",
       "      <th>6</th>\n",
       "      <td>NSWLLIMBS - NSWLTRASH - NSWLWEED</td>\n",
       "      <td>167143</td>\n",
       "    </tr>\n",
       "    <tr>\n",
       "      <th>7</th>\n",
       "      <td>NSWLLIMBS - NSWLOPSTOR - NSWLTRASH</td>\n",
       "      <td>150512</td>\n",
       "    </tr>\n",
       "    <tr>\n",
       "      <th>8</th>\n",
       "      <td>NSEXTWAL06 - NSWLOPSTOR - NSWLTRASH</td>\n",
       "      <td>135780</td>\n",
       "    </tr>\n",
       "    <tr>\n",
       "      <th>9</th>\n",
       "      <td>NSWLOPSTOR - NSWLTRASH - NSWLVEH02</td>\n",
       "      <td>126991</td>\n",
       "    </tr>\n",
       "    <tr>\n",
       "      <th>10</th>\n",
       "      <td>NSVACANT - NSWLOPSTOR - NSWLTRASH</td>\n",
       "      <td>118261</td>\n",
       "    </tr>\n",
       "    <tr>\n",
       "      <th>11</th>\n",
       "      <td>NSEXTWAL06 - NSWLTRASH - NSWLWEED</td>\n",
       "      <td>118157</td>\n",
       "    </tr>\n",
       "    <tr>\n",
       "      <th>12</th>\n",
       "      <td>NSWLTRASH - NSWLTRASH - NSWLTRASH</td>\n",
       "      <td>115404</td>\n",
       "    </tr>\n",
       "    <tr>\n",
       "      <th>13</th>\n",
       "      <td>NSRENTAL01 - NSWLOPSTOR - NSWLTRASH</td>\n",
       "      <td>107888</td>\n",
       "    </tr>\n",
       "    <tr>\n",
       "      <th>14</th>\n",
       "      <td>NSWLLIMBS - NSWLTRASH - NSWLTRASH</td>\n",
       "      <td>107534</td>\n",
       "    </tr>\n",
       "    <tr>\n",
       "      <th>15</th>\n",
       "      <td>NSWLOPSTOR - NSWLTRASH - NSWLVEH01</td>\n",
       "      <td>102702</td>\n",
       "    </tr>\n",
       "    <tr>\n",
       "      <th>16</th>\n",
       "      <td>NSEXTWAL04 - NSWLOPSTOR - NSWLTRASH</td>\n",
       "      <td>101785</td>\n",
       "    </tr>\n",
       "    <tr>\n",
       "      <th>17</th>\n",
       "      <td>NSWLOPSTOR - NSWLOPSTOR - NSWLWEED</td>\n",
       "      <td>95704</td>\n",
       "    </tr>\n",
       "    <tr>\n",
       "      <th>18</th>\n",
       "      <td>NSEXTWAL04 - NSWLTRASH - NSWLWEED</td>\n",
       "      <td>92477</td>\n",
       "    </tr>\n",
       "    <tr>\n",
       "      <th>19</th>\n",
       "      <td>NSVACANT - NSWLTRASH - NSWLTRASH</td>\n",
       "      <td>91252</td>\n",
       "    </tr>\n",
       "  </tbody>\n",
       "</table>\n",
       "</div>"
      ],
      "text/plain": [
       "                  Violation Code Combos  Co-occurance\n",
       "0    NSWLOPSTOR - NSWLTRASH - NSWLTRASH        315634\n",
       "1   NSWLOPSTOR - NSWLOPSTOR - NSWLTRASH        283078\n",
       "2     NSWLOPSTOR - NSWLTRASH - NSWLWEED        271425\n",
       "3      NSWLTRASH - NSWLTRASH - NSWLWEED        204788\n",
       "4       NSWLTRASH - NSWLWEED - NSWLWEED        168344\n",
       "5       NSVACANT - NSWLTRASH - NSWLWEED        167930\n",
       "6      NSWLLIMBS - NSWLTRASH - NSWLWEED        167143\n",
       "7    NSWLLIMBS - NSWLOPSTOR - NSWLTRASH        150512\n",
       "8   NSEXTWAL06 - NSWLOPSTOR - NSWLTRASH        135780\n",
       "9    NSWLOPSTOR - NSWLTRASH - NSWLVEH02        126991\n",
       "10    NSVACANT - NSWLOPSTOR - NSWLTRASH        118261\n",
       "11    NSEXTWAL06 - NSWLTRASH - NSWLWEED        118157\n",
       "12    NSWLTRASH - NSWLTRASH - NSWLTRASH        115404\n",
       "13  NSRENTAL01 - NSWLOPSTOR - NSWLTRASH        107888\n",
       "14    NSWLLIMBS - NSWLTRASH - NSWLTRASH        107534\n",
       "15   NSWLOPSTOR - NSWLTRASH - NSWLVEH01        102702\n",
       "16  NSEXTWAL04 - NSWLOPSTOR - NSWLTRASH        101785\n",
       "17   NSWLOPSTOR - NSWLOPSTOR - NSWLWEED         95704\n",
       "18    NSEXTWAL04 - NSWLTRASH - NSWLWEED         92477\n",
       "19     NSVACANT - NSWLTRASH - NSWLTRASH         91252"
      ]
     },
     "execution_count": 17,
     "metadata": {},
     "output_type": "execute_result"
    }
   ],
   "source": [
    "# 3 Combos\n",
    "grouped = mdfto.groupby('Code Violation Location')\n",
    "cooccur_dict = {}\n",
    "for name, group in grouped:\n",
    "    codes = group['Violation Code'].copy()\n",
    "    for a, b, c in combinations(codes, 3):\n",
    "        sorted_comb = sorted((a,b,c))\n",
    "        k = \" - \".join(sorted_comb)\n",
    "        if cooccur_dict.has_key(k):\n",
    "            cooccur_dict[k] += 1\n",
    "        else:\n",
    "            cooccur_dict[k] = 1\n",
    "cooc = pd.DataFrame(cooccur_dict.items(), columns=[\"Violation Code Combos\", \"Co-occurance\"])\n",
    "cooc.nlargest(20, \"Co-occurance\").reset_index(drop=True)"
   ]
  },
  {
   "cell_type": "markdown",
   "metadata": {},
   "source": [
    "## Does a presence of a certain type of violation predict another one? \n",
    "\n",
    "Even after we know certain types of violation occur together, it's interesting to see if there's a consequense between different types of violation."
   ]
  },
  {
   "cell_type": "code",
   "execution_count": 23,
   "metadata": {
    "collapsed": false
   },
   "outputs": [
    {
     "name": "stdout",
     "output_type": "stream",
     "text": [
      "= = = = = = = = = = = = = = = = = = = = = = = = = = = = = = = = = = = = = = = = = = ="
     ]
    },
    {
     "data": {
      "text/html": [
       "<div>\n",
       "<table border=\"1\" class=\"dataframe\">\n",
       "  <thead>\n",
       "    <tr style=\"text-align: right;\">\n",
       "      <th></th>\n",
       "      <th>Violation Effects</th>\n",
       "      <th>Occurance</th>\n",
       "    </tr>\n",
       "  </thead>\n",
       "  <tbody>\n",
       "    <tr>\n",
       "      <th>0</th>\n",
       "      <td>NSWLTRASH -&gt; NSWLTRASH</td>\n",
       "      <td>8239</td>\n",
       "    </tr>\n",
       "    <tr>\n",
       "      <th>1</th>\n",
       "      <td>NSWLTRASH -&gt; NSWLOPSTOR</td>\n",
       "      <td>6186</td>\n",
       "    </tr>\n",
       "    <tr>\n",
       "      <th>2</th>\n",
       "      <td>NSWLOPSTOR -&gt; NSWLTRASH</td>\n",
       "      <td>5424</td>\n",
       "    </tr>\n",
       "    <tr>\n",
       "      <th>3</th>\n",
       "      <td>NSWLTRASH -&gt; NSWLWEED</td>\n",
       "      <td>5112</td>\n",
       "    </tr>\n",
       "    <tr>\n",
       "      <th>4</th>\n",
       "      <td>NSWLOPSTOR -&gt; NSWLOPSTOR</td>\n",
       "      <td>5100</td>\n",
       "    </tr>\n",
       "    <tr>\n",
       "      <th>5</th>\n",
       "      <td>NSWLWEED -&gt; NSWLWEED</td>\n",
       "      <td>5012</td>\n",
       "    </tr>\n",
       "    <tr>\n",
       "      <th>6</th>\n",
       "      <td>NSWLWEED -&gt; NSWLTRASH</td>\n",
       "      <td>4519</td>\n",
       "    </tr>\n",
       "    <tr>\n",
       "      <th>7</th>\n",
       "      <td>NSWLOPSTOR -&gt; NSWLWEED</td>\n",
       "      <td>3055</td>\n",
       "    </tr>\n",
       "    <tr>\n",
       "      <th>8</th>\n",
       "      <td>NSWLTRASH -&gt; NSWLTRASH -&gt; NSWLTRASH</td>\n",
       "      <td>3042</td>\n",
       "    </tr>\n",
       "    <tr>\n",
       "      <th>9</th>\n",
       "      <td>NSWLWEED -&gt; NSWLOPSTOR</td>\n",
       "      <td>2960</td>\n",
       "    </tr>\n",
       "    <tr>\n",
       "      <th>10</th>\n",
       "      <td>NSWLTRASH -&gt; NSWLLIMBS</td>\n",
       "      <td>2809</td>\n",
       "    </tr>\n",
       "    <tr>\n",
       "      <th>11</th>\n",
       "      <td>NSWLLIMBS -&gt; NSWLTRASH</td>\n",
       "      <td>2335</td>\n",
       "    </tr>\n",
       "    <tr>\n",
       "      <th>12</th>\n",
       "      <td>NSWLTRASH -&gt; NSWLTRASH -&gt; NSWLOPSTOR</td>\n",
       "      <td>2290</td>\n",
       "    </tr>\n",
       "    <tr>\n",
       "      <th>13</th>\n",
       "      <td>NSWLTRASH -&gt; NSVACANT</td>\n",
       "      <td>2265</td>\n",
       "    </tr>\n",
       "    <tr>\n",
       "      <th>14</th>\n",
       "      <td>NSWLTRASH -&gt; NSEXTWAL06</td>\n",
       "      <td>2221</td>\n",
       "    </tr>\n",
       "    <tr>\n",
       "      <th>15</th>\n",
       "      <td>NSEXTWAL06 -&gt; NSWLTRASH</td>\n",
       "      <td>2094</td>\n",
       "    </tr>\n",
       "    <tr>\n",
       "      <th>16</th>\n",
       "      <td>NSWLWEED -&gt; NSWLLIMBS</td>\n",
       "      <td>2053</td>\n",
       "    </tr>\n",
       "    <tr>\n",
       "      <th>17</th>\n",
       "      <td>NSWLTRASH -&gt; NSRENTAL01</td>\n",
       "      <td>2039</td>\n",
       "    </tr>\n",
       "    <tr>\n",
       "      <th>18</th>\n",
       "      <td>NSWLTRASH -&gt; NSWLTRASH -&gt; NSWLWEED</td>\n",
       "      <td>2010</td>\n",
       "    </tr>\n",
       "    <tr>\n",
       "      <th>19</th>\n",
       "      <td>NSWLOPSTOR -&gt; NSWLTRASH -&gt; NSWLTRASH</td>\n",
       "      <td>1978</td>\n",
       "    </tr>\n",
       "    <tr>\n",
       "      <th>20</th>\n",
       "      <td>NSWLLIMBS -&gt; NSWLWEED</td>\n",
       "      <td>1901</td>\n",
       "    </tr>\n",
       "    <tr>\n",
       "      <th>21</th>\n",
       "      <td>NSWLTRASH -&gt; NSWLOPSTOR -&gt; NSWLTRASH</td>\n",
       "      <td>1899</td>\n",
       "    </tr>\n",
       "    <tr>\n",
       "      <th>22</th>\n",
       "      <td>NSWLWEED -&gt; NSWLWEED -&gt; NSWLWEED</td>\n",
       "      <td>1861</td>\n",
       "    </tr>\n",
       "    <tr>\n",
       "      <th>23</th>\n",
       "      <td>NSWLWEED -&gt; NSVACANT</td>\n",
       "      <td>1851</td>\n",
       "    </tr>\n",
       "    <tr>\n",
       "      <th>24</th>\n",
       "      <td>NSWLTRASH -&gt; NSWLOPSTOR -&gt; NSWLOPSTOR</td>\n",
       "      <td>1806</td>\n",
       "    </tr>\n",
       "    <tr>\n",
       "      <th>25</th>\n",
       "      <td>NSWLOPSTOR -&gt; NSWLLIMBS</td>\n",
       "      <td>1729</td>\n",
       "    </tr>\n",
       "    <tr>\n",
       "      <th>26</th>\n",
       "      <td>NSWLVEH02 -&gt; NSWLTRASH</td>\n",
       "      <td>1713</td>\n",
       "    </tr>\n",
       "    <tr>\n",
       "      <th>27</th>\n",
       "      <td>NSWLOPSTOR -&gt; NSWLTRASH -&gt; NSWLOPSTOR</td>\n",
       "      <td>1677</td>\n",
       "    </tr>\n",
       "    <tr>\n",
       "      <th>28</th>\n",
       "      <td>NSWLLIMBS -&gt; NSWLOPSTOR</td>\n",
       "      <td>1669</td>\n",
       "    </tr>\n",
       "    <tr>\n",
       "      <th>29</th>\n",
       "      <td>NSWLVEH02 -&gt; NSWLOPSTOR</td>\n",
       "      <td>1663</td>\n",
       "    </tr>\n",
       "  </tbody>\n",
       "</table>\n",
       "</div>"
      ],
      "text/plain": [
       "                        Violation Effects  Occurance\n",
       "0                  NSWLTRASH -> NSWLTRASH       8239\n",
       "1                 NSWLTRASH -> NSWLOPSTOR       6186\n",
       "2                 NSWLOPSTOR -> NSWLTRASH       5424\n",
       "3                   NSWLTRASH -> NSWLWEED       5112\n",
       "4                NSWLOPSTOR -> NSWLOPSTOR       5100\n",
       "5                    NSWLWEED -> NSWLWEED       5012\n",
       "6                   NSWLWEED -> NSWLTRASH       4519\n",
       "7                  NSWLOPSTOR -> NSWLWEED       3055\n",
       "8     NSWLTRASH -> NSWLTRASH -> NSWLTRASH       3042\n",
       "9                  NSWLWEED -> NSWLOPSTOR       2960\n",
       "10                 NSWLTRASH -> NSWLLIMBS       2809\n",
       "11                 NSWLLIMBS -> NSWLTRASH       2335\n",
       "12   NSWLTRASH -> NSWLTRASH -> NSWLOPSTOR       2290\n",
       "13                  NSWLTRASH -> NSVACANT       2265\n",
       "14                NSWLTRASH -> NSEXTWAL06       2221\n",
       "15                NSEXTWAL06 -> NSWLTRASH       2094\n",
       "16                  NSWLWEED -> NSWLLIMBS       2053\n",
       "17                NSWLTRASH -> NSRENTAL01       2039\n",
       "18     NSWLTRASH -> NSWLTRASH -> NSWLWEED       2010\n",
       "19   NSWLOPSTOR -> NSWLTRASH -> NSWLTRASH       1978\n",
       "20                  NSWLLIMBS -> NSWLWEED       1901\n",
       "21   NSWLTRASH -> NSWLOPSTOR -> NSWLTRASH       1899\n",
       "22       NSWLWEED -> NSWLWEED -> NSWLWEED       1861\n",
       "23                   NSWLWEED -> NSVACANT       1851\n",
       "24  NSWLTRASH -> NSWLOPSTOR -> NSWLOPSTOR       1806\n",
       "25                NSWLOPSTOR -> NSWLLIMBS       1729\n",
       "26                 NSWLVEH02 -> NSWLTRASH       1713\n",
       "27  NSWLOPSTOR -> NSWLTRASH -> NSWLOPSTOR       1677\n",
       "28                NSWLLIMBS -> NSWLOPSTOR       1669\n",
       "29                NSWLVEH02 -> NSWLOPSTOR       1663"
      ]
     },
     "execution_count": 23,
     "metadata": {},
     "output_type": "execute_result"
    },
    {
     "name": "stdout",
     "output_type": "stream",
     "text": [
      "\n"
     ]
    }
   ],
   "source": [
    "# Violation presence and consequences\n",
    "from itertools import combinations, product\n",
    "dftod = df[['Violation Code', 'Code Violation Location', 'Case Opened Date']]\n",
    "dftodlsize = dftod.groupby('Code Violation Location').size()\n",
    "dftodlsize\n",
    "mulcv_locations = dftodlsize[dftodlsize > 1].index\n",
    "mdfto = dftod[dftod['Code Violation Location'].isin(mulcv_locations)] #contains locations with multiple cv reported\n",
    "grouped = mdfto.groupby(['Code Violation Location'])\n",
    "progress = 0 \n",
    "cooccur_dict = {}\n",
    "for name, group in grouped:\n",
    "    if len(group['Case Opened Date'].unique()) > 1:\n",
    "        #reported in multiple dates\n",
    "        codes_sequences = [g['Violation Code'] for n, g in group.groupby('Case Opened Date')][:6]\n",
    "        #produce all combination\n",
    "        for code_sequence in list(product(*codes_sequences)):\n",
    "            k = \" -> \".join(code_sequence)\n",
    "            if cooccur_dict.has_key(k):\n",
    "                cooccur_dict[k] += 1\n",
    "            else:\n",
    "                cooccur_dict[k] = 1\n",
    "    progress += 1\n",
    "    if progress % 1000 == 0: \n",
    "        print '=',\n",
    "#     if dead > 50000: break\n",
    "cooc = pd.DataFrame(cooccur_dict.items(), columns=[\"Violation Effects\", \"Occurance\"])\n",
    "cooc.nlargest(30, \"Occurance\").reset_index(drop=True)"
   ]
  },
  {
   "cell_type": "markdown",
   "metadata": {},
   "source": [
    "From this analysis, we can see the trash violation can be a sign of many other violations. Also, we can find many violation types occur repeatedly at the same spot.\n",
    "\n",
    "NSWLTRASH -> NSWLTRASH\t8239\n",
    "\n",
    "NSWLOPSTOR -> NSWLOPSTOR\t5100\n",
    "\n",
    "NSWLWEED -> NSWLWEED\t5012\n",
    "\n",
    "NSWLTRASH -> NSWLTRASH -> NSWLTRASH\t3042\n",
    "\n",
    "NSWLWEED -> NSWLWEED -> NSWLWEED\t1861\n",
    "\n",
    "Does this mean the same violation tends to occur at some hotspots, e.g., people like to go to the same place for illegal dumping, or does this mean there's a failing recovery system not responding to reported issues timely enough for residents' expectation, and as a result people keep reporting the same issues? Well, based on the open days of the violation revealed above, we can make a good guess."
   ]
  },
  {
   "cell_type": "code",
   "execution_count": null,
   "metadata": {
    "collapsed": true
   },
   "outputs": [],
   "source": []
  }
 ],
 "metadata": {
  "kernelspec": {
   "display_name": "Python 2",
   "language": "python",
   "name": "python2"
  },
  "language_info": {
   "codemirror_mode": {
    "name": "ipython",
    "version": 2
   },
   "file_extension": ".py",
   "mimetype": "text/x-python",
   "name": "python",
   "nbconvert_exporter": "python",
   "pygments_lexer": "ipython2",
   "version": "2.7.11"
  }
 },
 "nbformat": 4,
 "nbformat_minor": 0
}
